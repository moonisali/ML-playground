{
 "cells": [
  {
   "cell_type": "code",
   "execution_count": 68,
   "metadata": {},
   "outputs": [],
   "source": [
    "from pyspark.sql import SparkSession\n",
    "import pandas as pd\n",
    "import matplotlib.pyplot as plt\n",
    "import seaborn as sns"
   ]
  },
  {
   "cell_type": "markdown",
   "metadata": {},
   "source": [
    "### Creating spark session"
   ]
  },
  {
   "cell_type": "code",
   "execution_count": 2,
   "metadata": {},
   "outputs": [],
   "source": [
    "spark = SparkSession.builder.appName('DataReader').getOrCreate()"
   ]
  },
  {
   "cell_type": "code",
   "execution_count": 3,
   "metadata": {},
   "outputs": [
    {
     "data": {
      "text/html": [
       "\n",
       "            <div>\n",
       "                <p><b>SparkSession - in-memory</b></p>\n",
       "                \n",
       "        <div>\n",
       "            <p><b>SparkContext</b></p>\n",
       "\n",
       "            <p><a href=\"http://192.168.1.9:4040\">Spark UI</a></p>\n",
       "\n",
       "            <dl>\n",
       "              <dt>Version</dt>\n",
       "                <dd><code>v2.4.3</code></dd>\n",
       "              <dt>Master</dt>\n",
       "                <dd><code>local[*]</code></dd>\n",
       "              <dt>AppName</dt>\n",
       "                <dd><code>DataReader</code></dd>\n",
       "            </dl>\n",
       "        </div>\n",
       "        \n",
       "            </div>\n",
       "        "
      ],
      "text/plain": [
       "<pyspark.sql.session.SparkSession at 0x7f8b485e0be0>"
      ]
     },
     "execution_count": 3,
     "metadata": {},
     "output_type": "execute_result"
    }
   ],
   "source": [
    "spark"
   ]
  },
  {
   "cell_type": "markdown",
   "metadata": {},
   "source": [
    "### Reading CSV file"
   ]
  },
  {
   "cell_type": "code",
   "execution_count": 4,
   "metadata": {},
   "outputs": [],
   "source": [
    "# Load data from a CSV\n",
    "file_location = \"train.csv\"\n",
    "df = spark.read.format(\"CSV\").option(\"inferSchema\", True).option(\"header\", True).load(file_location)"
   ]
  },
  {
   "cell_type": "code",
   "execution_count": 5,
   "metadata": {},
   "outputs": [
    {
     "data": {
      "text/plain": [
       "pyspark.sql.dataframe.DataFrame"
      ]
     },
     "execution_count": 5,
     "metadata": {},
     "output_type": "execute_result"
    }
   ],
   "source": [
    "type(df)"
   ]
  },
  {
   "cell_type": "code",
   "execution_count": 6,
   "metadata": {},
   "outputs": [
    {
     "name": "stdout",
     "output_type": "stream",
     "text": [
      "['Id', 'MSSubClass', 'MSZoning', 'LotFrontage', 'LotArea', 'Street', 'Alley', 'LotShape', 'LandContour', 'Utilities', 'LotConfig', 'LandSlope', 'Neighborhood', 'Condition1', 'Condition2', 'BldgType', 'HouseStyle', 'OverallQual', 'OverallCond', 'YearBuilt', 'YearRemodAdd', 'RoofStyle', 'RoofMatl', 'Exterior1st', 'Exterior2nd', 'MasVnrType', 'MasVnrArea', 'ExterQual', 'ExterCond', 'Foundation', 'BsmtQual', 'BsmtCond', 'BsmtExposure', 'BsmtFinType1', 'BsmtFinSF1', 'BsmtFinType2', 'BsmtFinSF2', 'BsmtUnfSF', 'TotalBsmtSF', 'Heating', 'HeatingQC', 'CentralAir', 'Electrical', '1stFlrSF', '2ndFlrSF', 'LowQualFinSF', 'GrLivArea', 'BsmtFullBath', 'BsmtHalfBath', 'FullBath', 'HalfBath', 'BedroomAbvGr', 'KitchenAbvGr', 'KitchenQual', 'TotRmsAbvGrd', 'Functional', 'Fireplaces', 'FireplaceQu', 'GarageType', 'GarageYrBlt', 'GarageFinish', 'GarageCars', 'GarageArea', 'GarageQual', 'GarageCond', 'PavedDrive', 'WoodDeckSF', 'OpenPorchSF', 'EnclosedPorch', '3SsnPorch', 'ScreenPorch', 'PoolArea', 'PoolQC', 'Fence', 'MiscFeature', 'MiscVal', 'MoSold', 'YrSold', 'SaleType', 'SaleCondition', 'SalePrice']\n"
     ]
    }
   ],
   "source": [
    "print(df.columns)"
   ]
  },
  {
   "cell_type": "code",
   "execution_count": 7,
   "metadata": {},
   "outputs": [
    {
     "name": "stdout",
     "output_type": "stream",
     "text": [
      "1460\n"
     ]
    }
   ],
   "source": [
    "print(df.count())"
   ]
  },
  {
   "cell_type": "code",
   "execution_count": 8,
   "metadata": {},
   "outputs": [
    {
     "data": {
      "text/plain": [
       "[('Id', 'int'),\n",
       " ('MSSubClass', 'int'),\n",
       " ('MSZoning', 'string'),\n",
       " ('LotFrontage', 'string'),\n",
       " ('LotArea', 'int'),\n",
       " ('Street', 'string'),\n",
       " ('Alley', 'string'),\n",
       " ('LotShape', 'string'),\n",
       " ('LandContour', 'string'),\n",
       " ('Utilities', 'string'),\n",
       " ('LotConfig', 'string'),\n",
       " ('LandSlope', 'string'),\n",
       " ('Neighborhood', 'string'),\n",
       " ('Condition1', 'string'),\n",
       " ('Condition2', 'string'),\n",
       " ('BldgType', 'string'),\n",
       " ('HouseStyle', 'string'),\n",
       " ('OverallQual', 'int'),\n",
       " ('OverallCond', 'int'),\n",
       " ('YearBuilt', 'int'),\n",
       " ('YearRemodAdd', 'int'),\n",
       " ('RoofStyle', 'string'),\n",
       " ('RoofMatl', 'string'),\n",
       " ('Exterior1st', 'string'),\n",
       " ('Exterior2nd', 'string'),\n",
       " ('MasVnrType', 'string'),\n",
       " ('MasVnrArea', 'string'),\n",
       " ('ExterQual', 'string'),\n",
       " ('ExterCond', 'string'),\n",
       " ('Foundation', 'string'),\n",
       " ('BsmtQual', 'string'),\n",
       " ('BsmtCond', 'string'),\n",
       " ('BsmtExposure', 'string'),\n",
       " ('BsmtFinType1', 'string'),\n",
       " ('BsmtFinSF1', 'int'),\n",
       " ('BsmtFinType2', 'string'),\n",
       " ('BsmtFinSF2', 'int'),\n",
       " ('BsmtUnfSF', 'int'),\n",
       " ('TotalBsmtSF', 'int'),\n",
       " ('Heating', 'string'),\n",
       " ('HeatingQC', 'string'),\n",
       " ('CentralAir', 'string'),\n",
       " ('Electrical', 'string'),\n",
       " ('1stFlrSF', 'int'),\n",
       " ('2ndFlrSF', 'int'),\n",
       " ('LowQualFinSF', 'int'),\n",
       " ('GrLivArea', 'int'),\n",
       " ('BsmtFullBath', 'int'),\n",
       " ('BsmtHalfBath', 'int'),\n",
       " ('FullBath', 'int'),\n",
       " ('HalfBath', 'int'),\n",
       " ('BedroomAbvGr', 'int'),\n",
       " ('KitchenAbvGr', 'int'),\n",
       " ('KitchenQual', 'string'),\n",
       " ('TotRmsAbvGrd', 'int'),\n",
       " ('Functional', 'string'),\n",
       " ('Fireplaces', 'int'),\n",
       " ('FireplaceQu', 'string'),\n",
       " ('GarageType', 'string'),\n",
       " ('GarageYrBlt', 'string'),\n",
       " ('GarageFinish', 'string'),\n",
       " ('GarageCars', 'int'),\n",
       " ('GarageArea', 'int'),\n",
       " ('GarageQual', 'string'),\n",
       " ('GarageCond', 'string'),\n",
       " ('PavedDrive', 'string'),\n",
       " ('WoodDeckSF', 'int'),\n",
       " ('OpenPorchSF', 'int'),\n",
       " ('EnclosedPorch', 'int'),\n",
       " ('3SsnPorch', 'int'),\n",
       " ('ScreenPorch', 'int'),\n",
       " ('PoolArea', 'int'),\n",
       " ('PoolQC', 'string'),\n",
       " ('Fence', 'string'),\n",
       " ('MiscFeature', 'string'),\n",
       " ('MiscVal', 'int'),\n",
       " ('MoSold', 'int'),\n",
       " ('YrSold', 'int'),\n",
       " ('SaleType', 'string'),\n",
       " ('SaleCondition', 'string'),\n",
       " ('SalePrice', 'int')]"
      ]
     },
     "execution_count": 8,
     "metadata": {},
     "output_type": "execute_result"
    }
   ],
   "source": [
    "df.dtypes"
   ]
  },
  {
   "cell_type": "code",
   "execution_count": 9,
   "metadata": {},
   "outputs": [
    {
     "data": {
      "text/plain": [
       "[Row(Id=1, MSSubClass=60, MSZoning='RL', LotFrontage='65', LotArea=8450, Street='Pave', Alley='NA', LotShape='Reg', LandContour='Lvl', Utilities='AllPub', LotConfig='Inside', LandSlope='Gtl', Neighborhood='CollgCr', Condition1='Norm', Condition2='Norm', BldgType='1Fam', HouseStyle='2Story', OverallQual=7, OverallCond=5, YearBuilt=2003, YearRemodAdd=2003, RoofStyle='Gable', RoofMatl='CompShg', Exterior1st='VinylSd', Exterior2nd='VinylSd', MasVnrType='BrkFace', MasVnrArea='196', ExterQual='Gd', ExterCond='TA', Foundation='PConc', BsmtQual='Gd', BsmtCond='TA', BsmtExposure='No', BsmtFinType1='GLQ', BsmtFinSF1=706, BsmtFinType2='Unf', BsmtFinSF2=0, BsmtUnfSF=150, TotalBsmtSF=856, Heating='GasA', HeatingQC='Ex', CentralAir='Y', Electrical='SBrkr', 1stFlrSF=856, 2ndFlrSF=854, LowQualFinSF=0, GrLivArea=1710, BsmtFullBath=1, BsmtHalfBath=0, FullBath=2, HalfBath=1, BedroomAbvGr=3, KitchenAbvGr=1, KitchenQual='Gd', TotRmsAbvGrd=8, Functional='Typ', Fireplaces=0, FireplaceQu='NA', GarageType='Attchd', GarageYrBlt='2003', GarageFinish='RFn', GarageCars=2, GarageArea=548, GarageQual='TA', GarageCond='TA', PavedDrive='Y', WoodDeckSF=0, OpenPorchSF=61, EnclosedPorch=0, 3SsnPorch=0, ScreenPorch=0, PoolArea=0, PoolQC='NA', Fence='NA', MiscFeature='NA', MiscVal=0, MoSold=2, YrSold=2008, SaleType='WD', SaleCondition='Normal', SalePrice=208500)]"
      ]
     },
     "execution_count": 9,
     "metadata": {},
     "output_type": "execute_result"
    }
   ],
   "source": [
    "df.head(n=1)"
   ]
  },
  {
   "cell_type": "markdown",
   "metadata": {},
   "source": [
    "### DataFrame Operations"
   ]
  },
  {
   "cell_type": "code",
   "execution_count": 10,
   "metadata": {},
   "outputs": [
    {
     "name": "stdout",
     "output_type": "stream",
     "text": [
      "root\n",
      " |-- Id: integer (nullable = true)\n",
      " |-- MSSubClass: integer (nullable = true)\n",
      " |-- MSZoning: string (nullable = true)\n",
      " |-- LotFrontage: string (nullable = true)\n",
      " |-- LotArea: integer (nullable = true)\n",
      " |-- Street: string (nullable = true)\n",
      " |-- Alley: string (nullable = true)\n",
      " |-- LotShape: string (nullable = true)\n",
      " |-- LandContour: string (nullable = true)\n",
      " |-- Utilities: string (nullable = true)\n",
      " |-- LotConfig: string (nullable = true)\n",
      " |-- LandSlope: string (nullable = true)\n",
      " |-- Neighborhood: string (nullable = true)\n",
      " |-- Condition1: string (nullable = true)\n",
      " |-- Condition2: string (nullable = true)\n",
      " |-- BldgType: string (nullable = true)\n",
      " |-- HouseStyle: string (nullable = true)\n",
      " |-- OverallQual: integer (nullable = true)\n",
      " |-- OverallCond: integer (nullable = true)\n",
      " |-- YearBuilt: integer (nullable = true)\n",
      " |-- YearRemodAdd: integer (nullable = true)\n",
      " |-- RoofStyle: string (nullable = true)\n",
      " |-- RoofMatl: string (nullable = true)\n",
      " |-- Exterior1st: string (nullable = true)\n",
      " |-- Exterior2nd: string (nullable = true)\n",
      " |-- MasVnrType: string (nullable = true)\n",
      " |-- MasVnrArea: string (nullable = true)\n",
      " |-- ExterQual: string (nullable = true)\n",
      " |-- ExterCond: string (nullable = true)\n",
      " |-- Foundation: string (nullable = true)\n",
      " |-- BsmtQual: string (nullable = true)\n",
      " |-- BsmtCond: string (nullable = true)\n",
      " |-- BsmtExposure: string (nullable = true)\n",
      " |-- BsmtFinType1: string (nullable = true)\n",
      " |-- BsmtFinSF1: integer (nullable = true)\n",
      " |-- BsmtFinType2: string (nullable = true)\n",
      " |-- BsmtFinSF2: integer (nullable = true)\n",
      " |-- BsmtUnfSF: integer (nullable = true)\n",
      " |-- TotalBsmtSF: integer (nullable = true)\n",
      " |-- Heating: string (nullable = true)\n",
      " |-- HeatingQC: string (nullable = true)\n",
      " |-- CentralAir: string (nullable = true)\n",
      " |-- Electrical: string (nullable = true)\n",
      " |-- 1stFlrSF: integer (nullable = true)\n",
      " |-- 2ndFlrSF: integer (nullable = true)\n",
      " |-- LowQualFinSF: integer (nullable = true)\n",
      " |-- GrLivArea: integer (nullable = true)\n",
      " |-- BsmtFullBath: integer (nullable = true)\n",
      " |-- BsmtHalfBath: integer (nullable = true)\n",
      " |-- FullBath: integer (nullable = true)\n",
      " |-- HalfBath: integer (nullable = true)\n",
      " |-- BedroomAbvGr: integer (nullable = true)\n",
      " |-- KitchenAbvGr: integer (nullable = true)\n",
      " |-- KitchenQual: string (nullable = true)\n",
      " |-- TotRmsAbvGrd: integer (nullable = true)\n",
      " |-- Functional: string (nullable = true)\n",
      " |-- Fireplaces: integer (nullable = true)\n",
      " |-- FireplaceQu: string (nullable = true)\n",
      " |-- GarageType: string (nullable = true)\n",
      " |-- GarageYrBlt: string (nullable = true)\n",
      " |-- GarageFinish: string (nullable = true)\n",
      " |-- GarageCars: integer (nullable = true)\n",
      " |-- GarageArea: integer (nullable = true)\n",
      " |-- GarageQual: string (nullable = true)\n",
      " |-- GarageCond: string (nullable = true)\n",
      " |-- PavedDrive: string (nullable = true)\n",
      " |-- WoodDeckSF: integer (nullable = true)\n",
      " |-- OpenPorchSF: integer (nullable = true)\n",
      " |-- EnclosedPorch: integer (nullable = true)\n",
      " |-- 3SsnPorch: integer (nullable = true)\n",
      " |-- ScreenPorch: integer (nullable = true)\n",
      " |-- PoolArea: integer (nullable = true)\n",
      " |-- PoolQC: string (nullable = true)\n",
      " |-- Fence: string (nullable = true)\n",
      " |-- MiscFeature: string (nullable = true)\n",
      " |-- MiscVal: integer (nullable = true)\n",
      " |-- MoSold: integer (nullable = true)\n",
      " |-- YrSold: integer (nullable = true)\n",
      " |-- SaleType: string (nullable = true)\n",
      " |-- SaleCondition: string (nullable = true)\n",
      " |-- SalePrice: integer (nullable = true)\n",
      "\n"
     ]
    }
   ],
   "source": [
    "df.printSchema()"
   ]
  },
  {
   "cell_type": "code",
   "execution_count": 11,
   "metadata": {},
   "outputs": [
    {
     "name": "stdout",
     "output_type": "stream",
     "text": [
      "+----------+\n",
      "|HouseStyle|\n",
      "+----------+\n",
      "|    1.5Fin|\n",
      "|      SLvl|\n",
      "|    SFoyer|\n",
      "|    2.5Fin|\n",
      "|    2Story|\n",
      "|    2.5Unf|\n",
      "|    1Story|\n",
      "|    1.5Unf|\n",
      "+----------+\n",
      "\n"
     ]
    }
   ],
   "source": [
    "df.select('HouseStyle').distinct().show()"
   ]
  },
  {
   "cell_type": "code",
   "execution_count": 53,
   "metadata": {},
   "outputs": [
    {
     "name": "stdout",
     "output_type": "stream",
     "text": [
      "+-------+------------------+-----------------+-----------------+-----------------+------------------+\n",
      "|summary|       OverallQual|       GarageArea|         PoolArea|        GrLivArea|         SalePrice|\n",
      "+-------+------------------+-----------------+-----------------+-----------------+------------------+\n",
      "|  count|              1460|             1460|             1460|             1460|              1460|\n",
      "|   mean|6.0993150684931505|472.9801369863014|2.758904109589041|1515.463698630137|180921.19589041095|\n",
      "| stddev|1.3829965467415926|213.8048414533803|40.17730694453021|525.4803834232024| 79442.50288288663|\n",
      "|    min|                 1|                0|                0|              334|             34900|\n",
      "|    max|                10|             1418|              738|             5642|            755000|\n",
      "+-------+------------------+-----------------+-----------------+-----------------+------------------+\n",
      "\n"
     ]
    }
   ],
   "source": [
    "df.select('OverallQual', 'GarageArea', 'PoolArea', 'GrLivArea', 'SalePrice').describe().show()"
   ]
  },
  {
   "cell_type": "code",
   "execution_count": 54,
   "metadata": {},
   "outputs": [
    {
     "name": "stdout",
     "output_type": "stream",
     "text": [
      "+-----------+-----------+\n",
      "|OverallQual|TotalBsmtSF|\n",
      "+-----------+-----------+\n",
      "|          7|        856|\n",
      "|          6|       1262|\n",
      "|          7|        920|\n",
      "|          7|        756|\n",
      "|          8|       1145|\n",
      "+-----------+-----------+\n",
      "only showing top 5 rows\n",
      "\n"
     ]
    }
   ],
   "source": [
    "df.select(df['OverallQual'], df['TotalBsmtSF']).show(5)"
   ]
  },
  {
   "cell_type": "code",
   "execution_count": 56,
   "metadata": {},
   "outputs": [
    {
     "name": "stdout",
     "output_type": "stream",
     "text": [
      "+-----------+---------------------+\n",
      "|OverallQual|POWER(TotalBsmtSF, 2)|\n",
      "+-----------+---------------------+\n",
      "|          7|             732736.0|\n",
      "|          6|            1592644.0|\n",
      "|          7|             846400.0|\n",
      "|          7|             571536.0|\n",
      "|          8|            1311025.0|\n",
      "+-----------+---------------------+\n",
      "only showing top 5 rows\n",
      "\n"
     ]
    }
   ],
   "source": [
    "df.select(df['OverallQual'], df['TotalBsmtSF'] ** 2).show(5)"
   ]
  },
  {
   "cell_type": "code",
   "execution_count": 57,
   "metadata": {},
   "outputs": [
    {
     "name": "stdout",
     "output_type": "stream",
     "text": [
      "+-----------+-----------+----------+--------+---------+\n",
      "|OverallQual|TotalBsmtSF|GarageArea|PoolArea|SalePrice|\n",
      "+-----------+-----------+----------+--------+---------+\n",
      "|          6|       1262|       460|       0|   181500|\n",
      "|          8|       1145|       836|       0|   250000|\n",
      "|          8|       1686|       636|       0|   307000|\n",
      "|          7|       1107|       484|       0|   200000|\n",
      "|          5|       1040|       384|       0|   129500|\n",
      "|          9|       1175|       736|       0|   345000|\n",
      "|          7|       1494|       840|       0|   279500|\n",
      "|          6|       1253|       352|       0|   157000|\n",
      "|          6|       1004|       480|       0|   149000|\n",
      "|          5|       1114|       576|       0|   159000|\n",
      "+-----------+-----------+----------+--------+---------+\n",
      "only showing top 10 rows\n",
      "\n"
     ]
    }
   ],
   "source": [
    "df.filter(df['TotalBsmtSF'] > 1000).select('OverallQual', 'TotalBsmtSF', 'GarageArea', 'PoolArea', 'SalePrice').show(n=10)"
   ]
  },
  {
   "cell_type": "code",
   "execution_count": 16,
   "metadata": {},
   "outputs": [
    {
     "name": "stdout",
     "output_type": "stream",
     "text": [
      "+----------+-----+\n",
      "|HouseStyle|count|\n",
      "+----------+-----+\n",
      "|    1.5Fin|  154|\n",
      "|      SLvl|   65|\n",
      "|    SFoyer|   37|\n",
      "|    2.5Fin|    8|\n",
      "|    2Story|  445|\n",
      "|    2.5Unf|   11|\n",
      "|    1Story|  726|\n",
      "|    1.5Unf|   14|\n",
      "+----------+-----+\n",
      "\n"
     ]
    }
   ],
   "source": [
    "df.groupBy('HouseStyle').count().show()"
   ]
  },
  {
   "cell_type": "markdown",
   "metadata": {},
   "source": [
    "### Running SQL Queries Programmatically"
   ]
  },
  {
   "cell_type": "code",
   "execution_count": 17,
   "metadata": {},
   "outputs": [
    {
     "name": "stdout",
     "output_type": "stream",
     "text": [
      "('Id', 'MSSubClass', 'LotArea', 'OverallQual', 'OverallCond', 'YearBuilt', 'YearRemodAdd', 'BsmtFinSF1', 'BsmtFinSF2', 'BsmtUnfSF', 'TotalBsmtSF', '1stFlrSF', '2ndFlrSF', 'LowQualFinSF', 'GrLivArea', 'BsmtFullBath', 'BsmtHalfBath', 'FullBath', 'HalfBath', 'BedroomAbvGr', 'KitchenAbvGr', 'TotRmsAbvGrd', 'Fireplaces', 'GarageCars', 'GarageArea', 'WoodDeckSF', 'OpenPorchSF', 'EnclosedPorch', '3SsnPorch', 'ScreenPorch', 'PoolArea', 'MiscVal', 'MoSold', 'YrSold', 'SalePrice')\n"
     ]
    }
   ],
   "source": [
    "numeric_types, _ = zip(*filter(lambda x: x[1] != 'string', df.dtypes))\n",
    "print(numeric_types)"
   ]
  },
  {
   "cell_type": "code",
   "execution_count": 18,
   "metadata": {},
   "outputs": [
    {
     "name": "stdout",
     "output_type": "stream",
     "text": [
      "-RECORD 0---------------------------------------------------------------------------------------------------------------------------------------------------------------------------------------------------------------------------------------------------------------------------------------------------------------------------------------------------------------------------------------------------------------------------------------------------------------------------------------------------------------------------------------------------------------------------------------------------------------------------------------------------------------------------------------------\n",
      " named_struct(col1, Id, col2, MSSubClass, col3, LotArea, col4, OverallQual, col5, OverallCond, col6, YearBuilt, col7, YearRemodAdd, col8, BsmtFinSF1, col9, BsmtFinSF2, col10, BsmtUnfSF, col11, TotalBsmtSF, col12, 1stFlrSF, col13, 2ndFlrSF, col14, LowQualFinSF, col15, GrLivArea, col16, BsmtFullBath, col17, BsmtHalfBath, col18, FullBath, col19, HalfBath, col20, BedroomAbvGr, col21, KitchenAbvGr, col22, TotRmsAbvGrd, col23, Fireplaces, col24, GarageCars, col25, GarageArea, col26, WoodDeckSF, col27, OpenPorchSF, col28, EnclosedPorch, col29, 3SsnPorch, col30, ScreenPorch, col31, PoolArea, col32, MiscVal, col33, MoSold, col34, YrSold, col35, SalePrice) | [Id, MSSubClass, ... \n",
      "only showing top 1 row\n",
      "\n",
      "None\n"
     ]
    }
   ],
   "source": [
    "# Register the DataFrame as a SQL temporary view\n",
    "df.createOrReplaceTempView(\"houses\")\n",
    "\n",
    "sqlDF = spark.sql(f\"SELECT {numeric_types} FROM houses\")\n",
    "print(sqlDF.show(1, vertical=True))"
   ]
  },
  {
   "cell_type": "code",
   "execution_count": 19,
   "metadata": {},
   "outputs": [
    {
     "name": "stdout",
     "output_type": "stream",
     "text": [
      "-RECORD 0-----------\n",
      " SalePrice | 68500  \n",
      "-RECORD 1-----------\n",
      " SalePrice | 101000 \n",
      "-RECORD 2-----------\n",
      " SalePrice | 140000 \n",
      "-RECORD 3-----------\n",
      " SalePrice | 164500 \n",
      "-RECORD 4-----------\n",
      " SalePrice | 84500  \n",
      "-RECORD 5-----------\n",
      " SalePrice | 79000  \n",
      "-RECORD 6-----------\n",
      " SalePrice | 127000 \n",
      "-RECORD 7-----------\n",
      " SalePrice | 112000 \n",
      "-RECORD 8-----------\n",
      " SalePrice | 79000  \n",
      "-RECORD 9-----------\n",
      " SalePrice | 151000 \n",
      "-RECORD 10----------\n",
      " SalePrice | 78000  \n",
      "-RECORD 11----------\n",
      " SalePrice | 85000  \n",
      "-RECORD 12----------\n",
      " SalePrice | 95000  \n",
      "-RECORD 13----------\n",
      " SalePrice | 123000 \n",
      "-RECORD 14----------\n",
      " SalePrice | 161000 \n",
      "-RECORD 15----------\n",
      " SalePrice | 155000 \n",
      "-RECORD 16----------\n",
      " SalePrice | 148000 \n",
      "-RECORD 17----------\n",
      " SalePrice | 86000  \n",
      "-RECORD 18----------\n",
      " SalePrice | 128000 \n",
      "-RECORD 19----------\n",
      " SalePrice | 151000 \n",
      "only showing top 20 rows\n",
      "\n"
     ]
    },
    {
     "data": {
      "text/plain": [
       "None"
      ]
     },
     "metadata": {},
     "output_type": "display_data"
    }
   ],
   "source": [
    "sqlDF = spark.sql(\"SELECT SalePrice FROM houses WHERE TotalBsmtSF > 500 AND TotalBsmtSF <= 620 \")\n",
    "display(sqlDF.show(vertical=True))"
   ]
  },
  {
   "cell_type": "code",
   "execution_count": 20,
   "metadata": {
    "scrolled": false
   },
   "outputs": [
    {
     "name": "stdout",
     "output_type": "stream",
     "text": [
      "4692250000\n",
      "10201000000\n",
      "19600000000\n",
      "27060250000\n",
      "7140250000\n",
      "6241000000\n",
      "16129000000\n",
      "12544000000\n",
      "6241000000\n",
      "22801000000\n",
      "6084000000\n",
      "7225000000\n",
      "9025000000\n",
      "15129000000\n",
      "25921000000\n",
      "24025000000\n",
      "21904000000\n",
      "7396000000\n",
      "16384000000\n",
      "22801000000\n",
      "7744000000\n",
      "22141440000\n",
      "7921000000\n",
      "30625000000\n",
      "9312250000\n",
      "40000000000\n",
      "3135216049\n",
      "21726760000\n",
      "22801000000\n",
      "34969000000\n",
      "30183155289\n",
      "5625000000\n",
      "58564000000\n",
      "6384010000\n",
      "15376000000\n",
      "1436410000\n",
      "19600000000\n",
      "7744000000\n",
      "27225000000\n",
      "9409000000\n",
      "6972250000\n",
      "25600000000\n",
      "19600000000\n",
      "13665610000\n",
      "26896000000\n",
      "21025000000\n",
      "31684000000\n",
      "19600000000\n",
      "6241000000\n",
      "28900000000\n",
      "35721000000\n",
      "24627652624\n",
      "20779799104\n",
      "24649000000\n",
      "11025000000\n",
      "38809000000\n",
      "36481000000\n",
      "12544000000\n",
      "21025000000\n"
     ]
    }
   ],
   "source": [
    "prices = sqlDF.rdd.map(lambda x: x.SalePrice ** 2).collect()\n",
    "for name in prices:\n",
    "    print(name)"
   ]
  },
  {
   "cell_type": "code",
   "execution_count": 58,
   "metadata": {},
   "outputs": [
    {
     "name": "stdout",
     "output_type": "stream",
     "text": [
      "+---------+-----+------------------+--------------+\n",
      "|YearBuilt|count|  AverageSalePrice|min(GrLivArea)|\n",
      "+---------+-----+------------------+--------------+\n",
      "|     2010|    1|          394432.0|          1856|\n",
      "|     2009|   18|          269220.0|          1212|\n",
      "|     2008|   23| 348849.1304347826|          1428|\n",
      "|     2007|   49|255362.73469387754|          1120|\n",
      "|     2006|   67|251775.44776119402|          1125|\n",
      "|     2005|   64|     229680.953125|          1072|\n",
      "|     2004|   54|210347.72222222222|           848|\n",
      "|     2003|   45|227408.57777777777|           848|\n",
      "|     2002|   23| 226869.5652173913|          1419|\n",
      "|     2001|   20|          242630.0|          1212|\n",
      "+---------+-----+------------------+--------------+\n",
      "\n"
     ]
    },
    {
     "data": {
      "text/plain": [
       "None"
      ]
     },
     "metadata": {},
     "output_type": "display_data"
    }
   ],
   "source": [
    "df.createOrReplaceTempView(\"houses\")\n",
    "\n",
    "# slecting 3 columns YearBuilt, SalePrice and GrLivArea\n",
    "# groups by the first column, aka YearBuilt\n",
    "# for each group calculates group length, average of SalePrice and minimum of GrLivArea\n",
    "# sorts by first column, aka by YearBuilt in descending order\n",
    "# limits by first 10 entries\n",
    "display(spark.sql(\"\"\"\n",
    "  select YearBuilt, count(YearBuilt) as count, avg(SalePrice) as AverageSalePrice, min(GrLivArea)\n",
    "  from houses\n",
    "  group by 1\n",
    "  order by 1 desc\n",
    "  limit 10\n",
    "\"\"\").show())"
   ]
  },
  {
   "cell_type": "code",
   "execution_count": 61,
   "metadata": {},
   "outputs": [
    {
     "name": "stdout",
     "output_type": "stream",
     "text": [
      "+---------+-----+--------------+\n",
      "|YearBuilt|Count|price_per_area|\n",
      "+---------+-----+--------------+\n",
      "|     2010|    1|        212.52|\n",
      "|     2009|   18|        168.03|\n",
      "|     2008|   23|        162.78|\n",
      "|     2007|   49|        148.34|\n",
      "|     2006|   67|        150.28|\n",
      "|     2005|   64|        141.65|\n",
      "|     2004|   54|        133.39|\n",
      "|     2003|   45|        135.28|\n",
      "|     2002|   23|        127.18|\n",
      "|     2001|   20|        139.46|\n",
      "|     2000|   24|        121.29|\n",
      "|     1999|   25|        122.46|\n",
      "|     1998|   25|        122.88|\n",
      "|     1997|   14|        123.49|\n",
      "|     1996|   15|         139.7|\n",
      "|     1995|   18|        135.67|\n",
      "|     1994|   19|        133.24|\n",
      "|     1993|   17|        121.36|\n",
      "|     1992|   13|        116.13|\n",
      "|     1991|    5|        112.35|\n",
      "+---------+-----+--------------+\n",
      "only showing top 20 rows\n",
      "\n"
     ]
    },
    {
     "data": {
      "text/plain": [
       "None"
      ]
     },
     "metadata": {},
     "output_type": "display_data"
    }
   ],
   "source": [
    "price_per_area = spark.sql(\"\"\"\n",
    "  select YearBuilt, Count, ROUND(TSalePrice/TGrLivArea, 2) as price_per_area\n",
    "  from (\n",
    "    select YearBuilt, sum(1) as Count, sum(SalePrice) as TSalePrice, sum(GrLivArea) as TGrLivArea\n",
    "    from houses\n",
    "    group by 1\n",
    "  )  \n",
    "  order by 1 desc\n",
    "\"\"\")\n",
    "display(price_per_area.show())"
   ]
  },
  {
   "cell_type": "code",
   "execution_count": 65,
   "metadata": {},
   "outputs": [],
   "source": [
    "price_per_area = price_per_area.toPandas()"
   ]
  },
  {
   "cell_type": "code",
   "execution_count": 73,
   "metadata": {},
   "outputs": [
    {
     "data": {
      "image/png": "[encoded data removed]",
      "text/plain": [
       "<Figure size 1080x504 with 1 Axes>"
      ]
     },
     "metadata": {
      "needs_background": "light"
     },
     "output_type": "display_data"
    }
   ],
   "source": [
    "plt.figure(figsize=(15, 7))\n",
    "sns.regplot(price_per_area['YearBuilt'], price_per_area['price_per_area'])\n",
    "plt.xlabel('YearBuilt')\n",
    "plt.ylabel('price_per_area')\n",
    "plt.tight_layout()\n",
    "plt.show()"
   ]
  },
  {
   "cell_type": "markdown",
   "metadata": {},
   "source": [
    "### MLlib"
   ]
  },
  {
   "cell_type": "code",
   "execution_count": 76,
   "metadata": {},
   "outputs": [],
   "source": [
    "numeric_df = df.select(*numeric_types[1:])"
   ]
  },
  {
   "cell_type": "code",
   "execution_count": 86,
   "metadata": {},
   "outputs": [
    {
     "data": {
      "text/plain": [
       "('Id',\n",
       " 'MSSubClass',\n",
       " 'LotArea',\n",
       " 'OverallQual',\n",
       " 'OverallCond',\n",
       " 'YearBuilt',\n",
       " 'YearRemodAdd',\n",
       " 'BsmtFinSF1',\n",
       " 'BsmtFinSF2',\n",
       " 'BsmtUnfSF',\n",
       " 'TotalBsmtSF',\n",
       " '1stFlrSF',\n",
       " '2ndFlrSF',\n",
       " 'LowQualFinSF',\n",
       " 'GrLivArea',\n",
       " 'BsmtFullBath',\n",
       " 'BsmtHalfBath',\n",
       " 'FullBath',\n",
       " 'HalfBath',\n",
       " 'BedroomAbvGr',\n",
       " 'KitchenAbvGr',\n",
       " 'TotRmsAbvGrd',\n",
       " 'Fireplaces',\n",
       " 'GarageCars',\n",
       " 'GarageArea',\n",
       " 'WoodDeckSF',\n",
       " 'OpenPorchSF',\n",
       " 'EnclosedPorch',\n",
       " '3SsnPorch',\n",
       " 'ScreenPorch',\n",
       " 'PoolArea',\n",
       " 'MiscVal',\n",
       " 'MoSold',\n",
       " 'YrSold',\n",
       " 'SalePrice')"
      ]
     },
     "execution_count": 86,
     "metadata": {},
     "output_type": "execute_result"
    }
   ],
   "source": [
    "numeric_types"
   ]
  },
  {
   "cell_type": "code",
   "execution_count": 93,
   "metadata": {},
   "outputs": [
    {
     "name": "stdout",
     "output_type": "stream",
     "text": [
      "1112 348\n"
     ]
    }
   ],
   "source": [
    "train_df, test_df = numeric_df.randomSplit([0.75, 0.25], seed=10)\n",
    "print(train_df.count(), test_df.count())"
   ]
  },
  {
   "cell_type": "code",
   "execution_count": 119,
   "metadata": {},
   "outputs": [],
   "source": [
    "from pyspark.ml.feature import VectorAssembler\n",
    "from pyspark.ml.regression import LinearRegression\n",
    "from pyspark.ml.evaluation import RegressionEvaluator"
   ]
  },
  {
   "cell_type": "code",
   "execution_count": 95,
   "metadata": {},
   "outputs": [],
   "source": [
    "feature_columns = [\n",
    "    'LotArea', 'OverallQual', 'YearBuilt',  'TotalBsmtSF', 'GrLivArea', 'TotRmsAbvGrd', 'GarageArea',\n",
    "    'PoolArea', 'YrSold', '1stFlrSF', '2ndFlrSF'\n",
    "]\n",
    "\n",
    "\n",
    "assembler = VectorAssembler(\n",
    "    inputCols=feature_columns, \n",
    "    outputCol=\"features\")\n",
    "\n",
    "train_df = assembler.transform(train_df)\n",
    "test_df = assembler.transform(test_df)"
   ]
  },
  {
   "cell_type": "code",
   "execution_count": 98,
   "metadata": {},
   "outputs": [
    {
     "name": "stdout",
     "output_type": "stream",
     "text": [
      "Coefficients: [0.6857965164454485,19806.76102504624,309.5117966567114,34.715671128598025,29.818663096502835,-1895.0846785176655,39.75530360332987,122.84628380415798,27.432473922734196,30.881757532525782,28.245298915986773]\n",
      "RMSE: 35096.745656\n",
      "R2: 0.799753\n"
     ]
    }
   ],
   "source": [
    "# Fit a linear regression model\n",
    "lr = LinearRegression(featuresCol = 'features', labelCol='SalePrice')\n",
    "lr_model = lr.fit(train_df)\n",
    "\n",
    "# Output statistics \n",
    "trainingSummary = lr_model.summary\n",
    "print(\"Coefficients: \" + str(lr_model.coefficients))\n",
    "print(\"RMSE: %f\" % trainingSummary.rootMeanSquaredError)\n",
    "print(\"R2: %f\" % trainingSummary.r2)"
   ]
  },
  {
   "cell_type": "code",
   "execution_count": 102,
   "metadata": {},
   "outputs": [
    {
     "name": "stdout",
     "output_type": "stream",
     "text": [
      "aggregationDepth: suggested depth for treeAggregate (>= 2). (default: 2)\n",
      "elasticNetParam: the ElasticNet mixing parameter, in range [0, 1]. For alpha = 0, the penalty is an L2 penalty. For alpha = 1, it is an L1 penalty. (default: 0.0)\n",
      "epsilon: The shape parameter to control the amount of robustness. Must be > 1.0. Only valid when loss is huber (default: 1.35)\n",
      "featuresCol: features column name. (default: features, current: features)\n",
      "fitIntercept: whether to fit an intercept term. (default: True)\n",
      "labelCol: label column name. (default: label, current: SalePrice)\n",
      "loss: The loss function to be optimized. Supported options: squaredError, huber. (default: squaredError)\n",
      "maxIter: max number of iterations (>= 0). (default: 100)\n",
      "predictionCol: prediction column name. (default: prediction)\n",
      "regParam: regularization parameter (>= 0). (default: 0.0)\n",
      "solver: The solver algorithm for optimization. Supported options: auto, normal, l-bfgs. (default: auto)\n",
      "standardization: whether to standardize the training features before fitting the model. (default: True)\n",
      "tol: the convergence tolerance for iterative algorithms (>= 0). (default: 1e-06)\n",
      "weightCol: weight column name. If this is not set or empty, we treat all instance weights as 1.0. (undefined)\n"
     ]
    }
   ],
   "source": [
    "print(lr.explainParams())"
   ]
  },
  {
   "cell_type": "code",
   "execution_count": 118,
   "metadata": {},
   "outputs": [
    {
     "name": "stdout",
     "output_type": "stream",
     "text": [
      "+------------------+---------+--------------------+\n",
      "|        prediction|SalePrice|            features|\n",
      "+------------------+---------+--------------------+\n",
      "|-49474.63890076266|    39300|[5000.0,1.0,1946....|\n",
      "| 90347.58555505506|   115000|[6000.0,5.0,1948....|\n",
      "|  113852.896724761|   119500|[6951.0,5.0,1984....|\n",
      "|121597.83612978901|   135000|[7000.0,5.0,1960....|\n",
      "|109026.24675831525|   136500|[7000.0,5.0,1978....|\n",
      "+------------------+---------+--------------------+\n",
      "only showing top 5 rows\n",
      "\n"
     ]
    }
   ],
   "source": [
    "# Make predictions.\n",
    "predictions = lr_model.transform(test_df)\n",
    "predictions.select(\"prediction\", \"SalePrice\", \"features\").show(5)"
   ]
  },
  {
   "cell_type": "code",
   "execution_count": 129,
   "metadata": {},
   "outputs": [
    {
     "name": "stdout",
     "output_type": "stream",
     "text": [
      "Root Mean Squared Error (RMSE) on test data = 49063.21\n",
      "R Squared (R2) on test data = 0.65\n"
     ]
    }
   ],
   "source": [
    "test_result = lr_model.evaluate(test_df)\n",
    "print(\"Root Mean Squared Error (RMSE) on test data = {:.2f}\".format(test_result.rootMeanSquaredError))\n",
    "print(\"R Squared (R2) on test data = {:.2f}\".format(test_result.r2))"
   ]
  },
  {
   "cell_type": "code",
   "execution_count": null,
   "metadata": {},
   "outputs": [],
   "source": []
  }
 ],
 "metadata": {
  "kernelspec": {
   "display_name": "Python 3",
   "language": "python",
   "name": "python3"
  },
  "language_info": {
   "codemirror_mode": {
    "name": "ipython",
    "version": 3
   },
   "file_extension": ".py",
   "mimetype": "text/x-python",
   "name": "python",
   "nbconvert_exporter": "python",
   "pygments_lexer": "ipython3",
   "version": "3.6.7"
  }
 },
 "nbformat": 4,
 "nbformat_minor": 2
}
