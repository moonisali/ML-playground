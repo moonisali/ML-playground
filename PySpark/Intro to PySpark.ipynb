{
 "cells": [
  {
   "cell_type": "code",
   "execution_count": 11,
   "metadata": {},
   "outputs": [],
   "source": [
    "from pyspark import SparkContext\n",
    "from pyspark.sql import SparkSession"
   ]
  },
  {
   "cell_type": "code",
   "execution_count": 12,
   "metadata": {},
   "outputs": [],
   "source": [
    "spark = SparkSession \\\n",
    "    .builder \\\n",
    "    .appName(\"Python Spark SQL basic example\") \\\n",
    "    .config(\"spark.some.config.option\", \"some-value\") \\\n",
    "    .getOrCreate()"
   ]
  },
  {
   "cell_type": "code",
   "execution_count": 17,
   "metadata": {},
   "outputs": [
    {
     "data": {
      "text/plain": [
       "'2.4.3'"
      ]
     },
     "execution_count": 17,
     "metadata": {},
     "output_type": "execute_result"
    }
   ],
   "source": [
    "spark."
   ]
  },
  {
   "cell_type": "code",
   "execution_count": 13,
   "metadata": {},
   "outputs": [
    {
     "data": {
      "text/plain": [
       "[Row(game_id=2011030221, player_id=8467412, team_id=1, timeOnIce=999, assists=0, goals=0, shots=1, hits=3, powerPlayGoals=0, powerPlayAssists=0, penaltyMinutes=0, faceOffWins=0, faceoffTaken=0, takeaways=0, giveaways=0, shortHandedGoals=0, shortHandedAssists=0, blocked=0, plusMinus=-1, evenTimeOnIce=885, shortHandedTimeOnIce=98, powerPlayTimeOnIce=16),\n",
       " Row(game_id=2011030221, player_id=8468501, team_id=1, timeOnIce=1168, assists=0, goals=0, shots=0, hits=4, powerPlayGoals=0, powerPlayAssists=0, penaltyMinutes=0, faceOffWins=0, faceoffTaken=0, takeaways=1, giveaways=1, shortHandedGoals=0, shortHandedAssists=0, blocked=1, plusMinus=0, evenTimeOnIce=767, shortHandedTimeOnIce=401, powerPlayTimeOnIce=0),\n",
       " Row(game_id=2011030221, player_id=8470609, team_id=1, timeOnIce=558, assists=0, goals=0, shots=2, hits=1, powerPlayGoals=0, powerPlayAssists=0, penaltyMinutes=0, faceOffWins=0, faceoffTaken=2, takeaways=0, giveaways=0, shortHandedGoals=0, shortHandedAssists=0, blocked=1, plusMinus=-1, evenTimeOnIce=542, shortHandedTimeOnIce=0, powerPlayTimeOnIce=16),\n",
       " Row(game_id=2011030221, player_id=8471816, team_id=1, timeOnIce=1134, assists=0, goals=0, shots=1, hits=4, powerPlayGoals=0, powerPlayAssists=0, penaltyMinutes=0, faceOffWins=0, faceoffTaken=0, takeaways=1, giveaways=0, shortHandedGoals=0, shortHandedAssists=0, blocked=1, plusMinus=-1, evenTimeOnIce=935, shortHandedTimeOnIce=183, powerPlayTimeOnIce=16),\n",
       " Row(game_id=2011030221, player_id=8472410, team_id=1, timeOnIce=436, assists=0, goals=0, shots=1, hits=3, powerPlayGoals=0, powerPlayAssists=0, penaltyMinutes=0, faceOffWins=3, faceoffTaken=6, takeaways=0, giveaways=0, shortHandedGoals=0, shortHandedAssists=0, blocked=0, plusMinus=-1, evenTimeOnIce=436, shortHandedTimeOnIce=0, powerPlayTimeOnIce=0)]"
      ]
     },
     "metadata": {},
     "output_type": "display_data"
    }
   ],
   "source": [
    "# Load data from a CSV\n",
    "file_location = \"/home/ubuntu/Desktop/ACA/nhl-game-data/game_skater_stats.csv\"\n",
    "df = spark.read.format(\"CSV\").option(\"inferSchema\", True).option(\"header\", True).load(file_location)\n",
    "display(df.take(5))"
   ]
  },
  {
   "cell_type": "code",
   "execution_count": null,
   "metadata": {},
   "outputs": [],
   "source": [
    "pyspark."
   ]
  }
 ],
 "metadata": {
  "kernelspec": {
   "display_name": "Python 3",
   "language": "python",
   "name": "python3"
  },
  "language_info": {
   "codemirror_mode": {
    "name": "ipython",
    "version": 3
   },
   "file_extension": ".py",
   "mimetype": "text/x-python",
   "name": "python",
   "nbconvert_exporter": "python",
   "pygments_lexer": "ipython3",
   "version": "3.6.7"
  }
 },
 "nbformat": 4,
 "nbformat_minor": 2
}
