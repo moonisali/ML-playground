{
 "cells": [
  {
   "cell_type": "markdown",
   "metadata": {},
   "source": [
    "### RNN"
   ]
  },
  {
   "cell_type": "markdown",
   "metadata": {},
   "source": [
    "This is an implementation of vanilla RNN for character-level language model. This implementation is inspired by the great [blog post](http://karpathy.github.io/2015/05/21/rnn-effectiveness/) and lectures of Andrej Karpathy. For more details about RNNs please see references. Below you can see the math of forward pass and backward pass of simple network."
   ]
  },
  {
   "cell_type": "markdown",
   "metadata": {},
   "source": [
    "#### Model Parameters"
   ]
  },
  {
   "cell_type": "markdown",
   "metadata": {},
   "source": [
    "* $ W_{hh} $ - hidden to hidden weight matrix, size = (hidden_size, hidden_size)\n",
    "* $ W_{hx} $ - input to hidden weight matrix, size = (hidden_size, vocab_size)\n",
    "* $ W_{hy} $ - hidden to output weight matrix, size = (vocab_size, hidden_size)"
   ]
  },
  {
   "cell_type": "markdown",
   "metadata": {},
   "source": [
    "#### Forward pass"
   ]
  },
  {
   "cell_type": "markdown",
   "metadata": {},
   "source": [
    "$$ \\text{randomly initialize wieght matrixes} $$\n",
    "\n",
    "\n",
    "$$ \\text{start with initial hidden state $h_{0}$ equal to zeros} $$\n",
    "\n",
    "\n",
    "$$ z_{t} = W_{hh}h_{t-1} + W_{xh}x $$\n",
    "\n",
    "\n",
    "$$ h_{t} = f(z_{t}) \\text{, where f- is an activation function } (\\sigma, \\tanh, \\text{etc.)} $$\n",
    "\n",
    "\n",
    "$$ y_{t} = W_{hy}h_{t} $$\n",
    "\n",
    "\n",
    "$$ p_{t} = softmax(y_{t}) $$\n",
    "\n",
    "\n",
    "$$ J_{t} = lossfunction(p_{t}, labels_{t}) \\text{, where loss function can be a crossentropy, MSE or something else} $$\n",
    "\n",
    "\n",
    "$$ J = \\sum_{t = 1}^{T} {J_{t}} $$"
   ]
  },
  {
   "cell_type": "markdown",
   "metadata": {},
   "source": [
    "#### Backward pass "
   ]
  },
  {
   "cell_type": "markdown",
   "metadata": {},
   "source": [
    "During backward pass we have to calculate gradient of loss against weight matrixes.\n",
    "\n",
    "$$ \\frac{\\partial J}{\\partial W_{hy}}, \\frac{\\partial J}{\\partial W_{hh}}, \\frac{\\partial J}{\\partial W_{hx}} $$"
   ]
  },
  {
   "cell_type": "markdown",
   "metadata": {},
   "source": [
    "For calulating them we need to do backward step by step as follows:"
   ]
  },
  {
   "cell_type": "markdown",
   "metadata": {},
   "source": [
    "$$ \\frac{\\partial J_{t}}{\\partial y_{t}} = p_{t} - labels_{t} $$"
   ]
  },
  {
   "cell_type": "markdown",
   "metadata": {},
   "source": [
    "$$ \\frac{\\partial J_{t}}{\\partial W_{hy}} = (p_{t} - labels_{t})h_{t} $$"
   ]
  },
  {
   "cell_type": "markdown",
   "metadata": {},
   "source": [
    "$$ \\frac{\\partial J_{t}}{\\partial h_{t}} = (p_{t} - labels_{t})W_{hy} $$"
   ]
  },
  {
   "cell_type": "markdown",
   "metadata": {},
   "source": [
    "$$ \n",
    "\\frac{\\partial h_{t}}{\\partial z_{t}} = \n",
    "\\frac{\\partial f}{\\partial z_{t}} =\n",
    "\\begin{cases} \n",
    "    1 - \\tanh^2{z_{t}}, & \\text{ if } f = \\tanh \\\\\n",
    "    \\sigma(z_{t})(1 - \\sigma(z_{t})), & \\text{ if } f = \\sigma\n",
    "\\end{cases} =\n",
    "\\begin{cases} \n",
    "    1 - h_{t} ^ 2, & \\text{ if } f = \\tanh \\\\\n",
    "    h_{t}(1 - h_{t}), & \\text{ if } f = \\sigma\n",
    "\\end{cases} $$"
   ]
  },
  {
   "cell_type": "markdown",
   "metadata": {},
   "source": [
    "$$ \\frac{\\partial z_{t}}{\\partial h_{t - 1}} = W_{hh} $$"
   ]
  },
  {
   "cell_type": "markdown",
   "metadata": {},
   "source": [
    "$$ \\frac{\\partial z_{t}}{\\partial W_{hx}} = x $$"
   ]
  },
  {
   "cell_type": "markdown",
   "metadata": {},
   "source": [
    "$$ \\frac{\\partial z_{t}}{\\partial W_{hh}} = h_{t - 1} $$"
   ]
  },
  {
   "cell_type": "markdown",
   "metadata": {},
   "source": [
    "At any time $\\tau$ the change of $ W_{hy} $ will affect only on $ y_{\\tau} $, so\n",
    "\n",
    "$$\n",
    "\\frac{\\partial J_{t}}{\\partial W_{hy}} =  \n",
    "\\frac{\\partial J_{t}}{\\partial y_{t}} \\frac{\\partial y_{t}}{\\partial W_{hy}} =\n",
    "(p_{t} - labels_{t})h_{t}.\n",
    "$$"
   ]
  },
  {
   "cell_type": "markdown",
   "metadata": {},
   "source": [
    "At any time $\\tau$ the change of $ W_{hh} $ will affect all $ h_{k}, \\text{ for all } k = 1 \\rightarrow \\tau  $, so\n",
    "\n",
    "$$\n",
    "\\frac{\\partial J_{t}}{\\partial W_{hh}} =  \n",
    "\\sum_{k=0}^{t}\n",
    "{\\frac{\\partial J_{t}}{\\partial h_{t}} \\frac{\\partial h_{t}}{\\partial h_{k}}\n",
    "\\frac{\\partial h_{k}}{\\partial z_{k}} \\frac{\\partial z_{k}}{\\partial W_{hh}}}.\n",
    "$$"
   ]
  },
  {
   "cell_type": "markdown",
   "metadata": {},
   "source": [
    "With the same logic we will have\n",
    "\n",
    "$$\n",
    "\\frac{\\partial J_{t}}{\\partial W_{hx}} =  \n",
    "\\sum_{k=0}^{t}\n",
    "{\\frac{\\partial J_{t}}{\\partial h_{t}} \\frac{\\partial h_{t}}{\\partial h_{k}}\n",
    "\\frac{\\partial h_{k}}{\\partial z_{k}} \\frac{\\partial z_{k}}{\\partial W_{hx}}}.\n",
    "$$"
   ]
  },
  {
   "cell_type": "markdown",
   "metadata": {},
   "source": [
    "Please note also that the total loss derivative will be just sum of all time loss derivatives, for example:\n",
    "\n",
    "\n",
    "\n",
    "$$\n",
    "\\frac{\\partial J}{\\partial W_{hh}} =  \n",
    "\\sum_{t=1}^{T} {\\frac{\\partial J_{t}}{\\partial W_{hh}}}.\n",
    "$$"
   ]
  },
  {
   "cell_type": "markdown",
   "metadata": {},
   "source": [
    "#### Implementation"
   ]
  },
  {
   "cell_type": "code",
   "execution_count": null,
   "metadata": {},
   "outputs": [],
   "source": [
    "class RNN\n"
   ]
  },
  {
   "cell_type": "code",
   "execution_count": null,
   "metadata": {},
   "outputs": [],
   "source": []
  },
  {
   "cell_type": "code",
   "execution_count": null,
   "metadata": {},
   "outputs": [],
   "source": []
  },
  {
   "cell_type": "code",
   "execution_count": null,
   "metadata": {},
   "outputs": [],
   "source": []
  },
  {
   "cell_type": "code",
   "execution_count": null,
   "metadata": {},
   "outputs": [],
   "source": []
  },
  {
   "cell_type": "code",
   "execution_count": null,
   "metadata": {},
   "outputs": [],
   "source": []
  },
  {
   "cell_type": "code",
   "execution_count": null,
   "metadata": {},
   "outputs": [],
   "source": []
  },
  {
   "cell_type": "code",
   "execution_count": null,
   "metadata": {},
   "outputs": [],
   "source": []
  }
 ],
 "metadata": {
  "kernelspec": {
   "display_name": "Python 3",
   "language": "python",
   "name": "python3"
  },
  "language_info": {
   "codemirror_mode": {
    "name": "ipython",
    "version": 3
   },
   "file_extension": ".py",
   "mimetype": "text/x-python",
   "name": "python",
   "nbconvert_exporter": "python",
   "pygments_lexer": "ipython3",
   "version": "3.6.7"
  }
 },
 "nbformat": 4,
 "nbformat_minor": 2
}
